{
 "cells": [
  {
   "attachments": {},
   "cell_type": "markdown",
   "metadata": {},
   "source": [
    "# Pandas 数据结构\n",
    "pandas 是一个 Python Data Analysis Library（数据分析库），它是基于 NumPy 的一个开源 Python 库，它被广泛用于数据分析，以及数据清洗和准备等工作。"
   ]
  },
  {
   "attachments": {},
   "cell_type": "markdown",
   "metadata": {},
   "source": [
    "## 1. 导入"
   ]
  },
  {
   "cell_type": "code",
   "execution_count": 16,
   "metadata": {},
   "outputs": [],
   "source": [
    "import pandas as pd\n",
    "import numpy as np"
   ]
  },
  {
   "attachments": {},
   "cell_type": "markdown",
   "metadata": {},
   "source": [
    "## 2. Series\n"
   ]
  },
  {
   "attachments": {},
   "cell_type": "markdown",
   "metadata": {},
   "source": [
    "### 2.1 创建 Series\n",
    "pandas.Series(data, index, dtype, name, copy)\n",
    "* data: 一组数据，可以是字典、ndarray或标量。\n",
    "* index: 数据索引标签，如果不指定，默认从0开始。\n",
    "* dtype: 数据类型，默认会自己判断。\n",
    "* name: 设置的名称。\n",
    "* copy: 拷贝数据，默认为False。"
   ]
  },
  {
   "attachments": {},
   "cell_type": "markdown",
   "metadata": {},
   "source": [
    "#### 2.1.1 从列表创建"
   ]
  },
  {
   "cell_type": "code",
   "execution_count": 17,
   "metadata": {},
   "outputs": [
    {
     "name": "stdout",
     "output_type": "stream",
     "text": [
      "0    1\n",
      "1    2\n",
      "2    3\n",
      "3    4\n",
      "4    5\n",
      "5    6\n",
      "dtype: int64\n"
     ]
    }
   ],
   "source": [
    "s_2_1_1 = pd.Series([1,2,3,4,5,6])\n",
    "print(s_2_1_1)"
   ]
  },
  {
   "attachments": {},
   "cell_type": "markdown",
   "metadata": {},
   "source": [
    "#### 2.1.2 从 ndarray 创建\n"
   ]
  },
  {
   "cell_type": "code",
   "execution_count": 18,
   "metadata": {},
   "outputs": [
    {
     "name": "stdout",
     "output_type": "stream",
     "text": [
      "a    0\n",
      "b    1\n",
      "c    2\n",
      "d    3\n",
      "e    4\n",
      "dtype: int64\n"
     ]
    }
   ],
   "source": [
    "s_2_1_2 = pd.Series(np.arange(5), index=['a','b','c','d','e'])\n",
    "print(s_2_1_2)"
   ]
  },
  {
   "attachments": {},
   "cell_type": "markdown",
   "metadata": {},
   "source": [
    "#### 2.1.3 从字典创建"
   ]
  },
  {
   "cell_type": "code",
   "execution_count": 19,
   "metadata": {},
   "outputs": [
    {
     "name": "stdout",
     "output_type": "stream",
     "text": [
      "name    zhangsan\n",
      "age           27\n",
      "tel        10086\n",
      "dtype: object\n"
     ]
    }
   ],
   "source": [
    "temp_dict = {\"name\":\"zhangsan\", \"age\":27, \"tel\": 10086}\n",
    "s_2_1_3 = pd.Series(temp_dict)\n",
    "print(s_2_1_3)"
   ]
  },
  {
   "attachments": {},
   "cell_type": "markdown",
   "metadata": {},
   "source": [
    "#### 2.1.4 从标量值构造"
   ]
  },
  {
   "cell_type": "code",
   "execution_count": 20,
   "metadata": {},
   "outputs": [
    {
     "name": "stdout",
     "output_type": "stream",
     "text": [
      "a    1.0\n",
      "b    1.0\n",
      "c    1.0\n",
      "d    1.0\n",
      "e    1.0\n",
      "dtype: float64\n"
     ]
    }
   ],
   "source": [
    "s_2_1_4 = pd.Series(1., index=list(\"abcde\"))\n",
    "print(s_2_1_4)"
   ]
  },
  {
   "attachments": {},
   "cell_type": "markdown",
   "metadata": {},
   "source": [
    "### 2.2 切片和索引\n",
    "构造示例数据"
   ]
  },
  {
   "cell_type": "code",
   "execution_count": 21,
   "metadata": {},
   "outputs": [
    {
     "name": "stdout",
     "output_type": "stream",
     "text": [
      "a    0\n",
      "b    1\n",
      "c    2\n",
      "d    3\n",
      "e    4\n",
      "dtype: int64\n"
     ]
    }
   ],
   "source": [
    "s_2_2 = pd.Series(np.arange(5), index=list(\"abcde\"))\n",
    "print(s_2_2)"
   ]
  },
  {
   "attachments": {},
   "cell_type": "markdown",
   "metadata": {},
   "source": [
    "#### 2.2.1. 支持数字索引操作"
   ]
  },
  {
   "cell_type": "code",
   "execution_count": 22,
   "metadata": {},
   "outputs": [
    {
     "name": "stdout",
     "output_type": "stream",
     "text": [
      "0\n"
     ]
    }
   ],
   "source": [
    "print(s_2_2[0])"
   ]
  },
  {
   "attachments": {},
   "cell_type": "markdown",
   "metadata": {},
   "source": [
    "#### 2.2.2 支持切片操作"
   ]
  },
  {
   "cell_type": "code",
   "execution_count": 23,
   "metadata": {},
   "outputs": [
    {
     "name": "stdout",
     "output_type": "stream",
     "text": [
      "a    0\n",
      "b    1\n",
      "c    2\n",
      "dtype: int64\n"
     ]
    }
   ],
   "source": [
    "print(s_2_2[:3])"
   ]
  },
  {
   "attachments": {},
   "cell_type": "markdown",
   "metadata": {},
   "source": [
    "#### 2.2.3. 花式索引"
   ]
  },
  {
   "cell_type": "code",
   "execution_count": 24,
   "metadata": {},
   "outputs": [
    {
     "name": "stdout",
     "output_type": "stream",
     "text": [
      "c    2\n",
      "b    1\n",
      "d    3\n",
      "dtype: int64\n"
     ]
    }
   ],
   "source": [
    "print(s_2_2[[2,1,3]])"
   ]
  },
  {
   "attachments": {},
   "cell_type": "markdown",
   "metadata": {},
   "source": [
    "#### 2.2.4. 布尔索引"
   ]
  },
  {
   "cell_type": "code",
   "execution_count": 25,
   "metadata": {},
   "outputs": [
    {
     "name": "stdout",
     "output_type": "stream",
     "text": [
      "a    0\n",
      "c    2\n",
      "e    4\n",
      "dtype: int64\n"
     ]
    }
   ],
   "source": [
    "print(s_2_2[s_2_2%2==0])"
   ]
  },
  {
   "attachments": {},
   "cell_type": "markdown",
   "metadata": {},
   "source": [
    "#### 2.2.5. 字典索引"
   ]
  },
  {
   "cell_type": "code",
   "execution_count": 26,
   "metadata": {},
   "outputs": [
    {
     "name": "stdout",
     "output_type": "stream",
     "text": [
      "0\n"
     ]
    }
   ],
   "source": [
    "print(s_2_2['a'])"
   ]
  },
  {
   "attachments": {},
   "cell_type": "markdown",
   "metadata": {},
   "source": [
    "### 2.3 运算"
   ]
  },
  {
   "cell_type": "code",
   "execution_count": 27,
   "metadata": {},
   "outputs": [],
   "source": [
    "s_2_3 = pd.Series(np.arange(5), index=list(\"abcde\"))"
   ]
  },
  {
   "attachments": {},
   "cell_type": "markdown",
   "metadata": {},
   "source": [
    "###"
   ]
  },
  {
   "attachments": {},
   "cell_type": "markdown",
   "metadata": {},
   "source": [
    "#### 2.3.1 对应位置相加"
   ]
  },
  {
   "cell_type": "code",
   "execution_count": 28,
   "metadata": {},
   "outputs": [
    {
     "name": "stdout",
     "output_type": "stream",
     "text": [
      "a    0\n",
      "b    2\n",
      "c    4\n",
      "d    6\n",
      "e    8\n",
      "dtype: int64\n"
     ]
    }
   ],
   "source": [
    "s_2_3_1 = s_2_3 + s_2_3\n",
    "print(s_2_3_1)"
   ]
  },
  {
   "attachments": {},
   "cell_type": "markdown",
   "metadata": {},
   "source": [
    "#### 2.3.2 对应位置相乘"
   ]
  },
  {
   "cell_type": "code",
   "execution_count": 29,
   "metadata": {},
   "outputs": [
    {
     "name": "stdout",
     "output_type": "stream",
     "text": [
      "a     0\n",
      "b     1\n",
      "c     4\n",
      "d     9\n",
      "e    16\n",
      "dtype: int64\n"
     ]
    }
   ],
   "source": [
    "s_2_3_2 = s_2_3 * s_2_3\n",
    "print(s_2_3_2)"
   ]
  },
  {
   "attachments": {},
   "cell_type": "markdown",
   "metadata": {},
   "source": [
    "#### 2.3.3 各位置加2"
   ]
  },
  {
   "cell_type": "code",
   "execution_count": 30,
   "metadata": {},
   "outputs": [
    {
     "name": "stdout",
     "output_type": "stream",
     "text": [
      "a    2\n",
      "b    3\n",
      "c    4\n",
      "d    5\n",
      "e    6\n",
      "dtype: int64\n"
     ]
    }
   ],
   "source": [
    "s_2_3_3 = s_2_3 + 2\n",
    "print(s_2_3_3)"
   ]
  },
  {
   "attachments": {},
   "cell_type": "markdown",
   "metadata": {},
   "source": [
    "### 2.4 自动对齐\n",
    "* 默认使用index的值进行对齐，而不是相对位置\n",
    "* 不能对齐的部分当做缺失值处理"
   ]
  },
  {
   "cell_type": "code",
   "execution_count": 31,
   "metadata": {},
   "outputs": [
    {
     "name": "stdout",
     "output_type": "stream",
     "text": [
      "a    NaN\n",
      "b    2.0\n",
      "c    4.0\n",
      "d    6.0\n",
      "e    NaN\n",
      "dtype: float64\n"
     ]
    }
   ],
   "source": [
    "s_2_4 = pd.Series(np.arange(5), index=list(\"abcde\"))\n",
    "result = s_2_4[1:] + s_2_4[:-1]\n",
    "print(result)"
   ]
  },
  {
   "attachments": {},
   "cell_type": "markdown",
   "metadata": {},
   "source": [
    "### 2.5 缺失值处理"
   ]
  },
  {
   "attachments": {},
   "cell_type": "markdown",
   "metadata": {},
   "source": [
    "#### 2.5.1 Series.isna() 检测缺失值"
   ]
  },
  {
   "attachments": {},
   "cell_type": "markdown",
   "metadata": {},
   "source": [
    "#### 2.5.2 Series.finllna() 填充缺失值\n",
    "Series.fillna(value=None, method=None, axis=None, inplace=False, limit=None, downcast=None)\n",
    "* **values:** dict, Series, or DataFrame(填充nan的值，不能是list)\n",
    "* **method:** {'backfill','bfill','pad','ffill',None}, default None(填充方法，用前/后的值进行填充)\n",
    "* **axis:** {0 or 'index'}{前后或者上下填充}\n",
    "* **limit:** nt, default None (连续填充的值的数量)"
   ]
  },
  {
   "attachments": {},
   "cell_type": "markdown",
   "metadata": {},
   "source": [
    "#### 2.5.3 Series.dropna() 删除缺失值\n",
    "Series.dropna(axis=0, implace=False, how=None)\n",
    "* **axis:** 默认为0，表示逢空值剔除整行，如果设置参数axis=1表示逢空值去掉整列。\n",
    "* **inplace:** 如果设置为True，将计算得到的值直接覆盖之前的值并返回None，修改的是源数据。\n",
    "* **how:** 默认为any如果一行（或一列）里任何一个数据有出现NA就去掉整行，如果设置为how='all'一行（或一列）都是NA才去掉这整行。"
   ]
  },
  {
   "cell_type": "code",
   "execution_count": 34,
   "metadata": {},
   "outputs": [
    {
     "name": "stdout",
     "output_type": "stream",
     "text": [
      "0    False\n",
      "1    False\n",
      "2     True\n",
      "3    False\n",
      "4     True\n",
      "dtype: bool\n",
      "0    1.0\n",
      "1    2.0\n",
      "2    0.0\n",
      "3    4.0\n",
      "4    0.0\n",
      "dtype: float64\n",
      "0    1.0\n",
      "1    2.0\n",
      "3    4.0\n",
      "dtype: float64\n",
      "0    1.0\n",
      "1    2.0\n",
      "2    NaN\n",
      "3    4.0\n",
      "4    NaN\n",
      "dtype: float64\n"
     ]
    }
   ],
   "source": [
    "s_2_5 = pd.Series([1,2,None,4,None])\n",
    "print(s_2_5.isna())\n",
    "print(s_2_5.fillna(0.))\n",
    "print(s_2_5.dropna())"
   ]
  },
  {
   "attachments": {},
   "cell_type": "markdown",
   "metadata": {},
   "source": [
    "### 2.6 属性：name、index 和 values"
   ]
  },
  {
   "cell_type": "code",
   "execution_count": 35,
   "metadata": {},
   "outputs": [
    {
     "name": "stdout",
     "output_type": "stream",
     "text": [
      "name_2_6\n",
      "Index(['a', 'b', 'c', 'd', 'e'], dtype='object')\n",
      "[0 1 2 3 4]\n"
     ]
    }
   ],
   "source": [
    "s_2_6 = pd.Series(np.arange(5), index=list(\"abcde\"), name=\"name_2_6\")\n",
    "print(s_2_6.name)\n",
    "print(s_2_6.index)\n",
    "print(s_2_6.values)"
   ]
  },
  {
   "attachments": {},
   "cell_type": "markdown",
   "metadata": {},
   "source": [
    "## 3 DataFrame 含有行（index）列（columns）的二维数组"
   ]
  },
  {
   "attachments": {},
   "cell_type": "markdown",
   "metadata": {},
   "source": [
    "### 3.1 创建DataFrame\n",
    "pandas.DataFrame(data, index, columns, dtype, copy)\n",
    "* **data:** 一组数据（ndarray、Series、map、lists、dict等类型）\n",
    "* **index:** 索引值，或者可以称为行标签\n",
    "* **columns:** 列标签，默认为RangeIndex（0,1,2,3,...,n）\n",
    "* **dtype:** 数据类型\n",
    "* **copy:**  拷贝数据，默认为False"
   ]
  },
  {
   "attachments": {},
   "cell_type": "markdown",
   "metadata": {},
   "source": [
    "#### 3.1.1 使用单个列表创建"
   ]
  },
  {
   "cell_type": "code",
   "execution_count": null,
   "metadata": {},
   "outputs": [],
   "source": []
  }
 ],
 "metadata": {
  "kernelspec": {
   "display_name": "Python 3 (ipykernel)",
   "language": "python",
   "name": "python3"
  },
  "language_info": {
   "codemirror_mode": {
    "name": "ipython",
    "version": 3
   },
   "file_extension": ".py",
   "mimetype": "text/x-python",
   "name": "python",
   "nbconvert_exporter": "python",
   "pygments_lexer": "ipython3",
   "version": "3.9.13"
  },
  "vscode": {
   "interpreter": {
    "hash": "004be5bea0f029d61c4a2183d353352bb68a7f7605ab2d617fbe59d6afe44426"
   }
  }
 },
 "nbformat": 4,
 "nbformat_minor": 2
}
